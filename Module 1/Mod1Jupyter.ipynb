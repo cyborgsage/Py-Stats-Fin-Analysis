{
 "cells": [
  {
   "cell_type": "code",
   "execution_count": 2,
   "metadata": {},
   "outputs": [],
   "source": [
    "import pandas as pd\n",
    "import numpy as np\n",
    "import matplotlib.pyplot as plt\n",
    "import statsmodels"
   ]
  },
  {
   "cell_type": "code",
   "execution_count": null,
   "metadata": {},
   "outputs": [],
   "source": [
    "# Import Data from CSV -- pd.read_csv"
   ]
  },
  {
   "cell_type": "code",
   "execution_count": 5,
   "metadata": {},
   "outputs": [],
   "source": [
    "# fb = pd.read_csv('data/facebook.csv')"
   ]
  },
  {
   "cell_type": "code",
   "execution_count": null,
   "metadata": {},
   "outputs": [],
   "source": [
    "# .loc & .iloc methods for slicing\n",
    "# fb['Close'].plot()\n",
    "\n",
    "#fb[['Open','Close']] -- obtain multiple columns\n",
    "\n",
    "#fb['Price1'] = fb['Close'].shift(-1) <-- close price of tomorrow. Shifts price upward by 1 row\n",
    "\n",
    "#priceDiff = (close price of tomorrow - close price of today)\n",
    "#fb['priceDiff'] = fb['Price1'] - fb['Close']\n",
    "\n",
    "#Daily return\n",
    "#fb['return'] = fb['priceDiff']/fb['Close']\n",
    "\n",
    "#Direction\n",
    "#priceDiff > 0  ---- Up\n",
    "#priceDiff <= 0 ---- Down\n",
    "\n"
   ]
  },
  {
   "cell_type": "code",
   "execution_count": null,
   "metadata": {},
   "outputs": [],
   "source": [
    "# List Comp:\n",
    "\n",
    "#fb['Direction'] = [1 if fb.loc[ei, 'priceDiff'] > 0 else -1 for ei in fb.index]"
   ]
  },
  {
   "cell_type": "code",
   "execution_count": null,
   "metadata": {},
   "outputs": [],
   "source": [
    "# Moving Average:\n",
    "\n",
    "# .rolling()\n",
    "#Ex: fb['MA40'] = fb['Close'].rolling(40).mean()"
   ]
  },
  {
   "cell_type": "code",
   "execution_count": null,
   "metadata": {},
   "outputs": [],
   "source": [
    "# MA cross strategy\n",
    "\n",
    "#10 SMA and 50 SMA\n",
    "# Fast signal and slow signal\n",
    "\n",
    "#Cumulative wealth: ms['wealth'] = ms['Profit'].cumsum()"
   ]
  }
 ],
 "metadata": {
  "kernelspec": {
   "display_name": "Python (learn-env)",
   "language": "python",
   "name": "learn-env"
  },
  "language_info": {
   "codemirror_mode": {
    "name": "ipython",
    "version": 3
   },
   "file_extension": ".py",
   "mimetype": "text/x-python",
   "name": "python",
   "nbconvert_exporter": "python",
   "pygments_lexer": "ipython3",
   "version": "3.8.5"
  }
 },
 "nbformat": 4,
 "nbformat_minor": 4
}
